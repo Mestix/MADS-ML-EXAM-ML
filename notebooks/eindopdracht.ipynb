{
 "cells": [
  {
   "cell_type": "code",
   "execution_count": 657,
   "id": "cd3a2132",
   "metadata": {},
   "outputs": [],
   "source": [
    "import mltrainer\n",
    "assert mltrainer.__version__ >= \"0.2.5\""
   ]
  },
  {
   "cell_type": "code",
   "execution_count": 658,
   "id": "819e3da1",
   "metadata": {},
   "outputs": [],
   "source": [
    "from mads_datasets.base import BaseDatastreamer\n",
    "from mltrainer.preprocessors import BasePreprocessor\n",
    "from pathlib import Path\n",
    "from sklearn.metrics import confusion_matrix\n",
    "from torch import nn\n",
    "import torch\n",
    "\n",
    "from src import datasets, metrics\n",
    "\n",
    "import torch.nn.functional as F"
   ]
  },
  {
   "cell_type": "code",
   "execution_count": 659,
   "id": "ecef12c7",
   "metadata": {},
   "outputs": [
    {
     "name": "stdout",
     "output_type": "stream",
     "text": [
      "{'ptb': 'heart', 'arrhythmia': 'heart_big'}\n"
     ]
    }
   ],
   "source": [
    "import tomllib\n",
    "\n",
    "datadir = Path('../data')\n",
    "configfile = Path(\"config.toml\")\n",
    "\n",
    "with configfile.open('rb') as f:\n",
    "    config = tomllib.load(f)\n",
    "print(config)"
   ]
  },
  {
   "cell_type": "code",
   "execution_count": 660,
   "id": "4f696ac1",
   "metadata": {},
   "outputs": [
    {
     "data": {
      "text/plain": [
       "(PosixPath('../data/heart_big_train.parq'),\n",
       " PosixPath('../data/heart_big_test.parq'))"
      ]
     },
     "execution_count": 660,
     "metadata": {},
     "output_type": "execute_result"
    }
   ],
   "source": [
    "trainfile = datadir / (config['arrhythmia'] + '_train.parq')\n",
    "testfile = datadir / (config['arrhythmia'] + '_test.parq')\n",
    "trainfile, testfile"
   ]
  },
  {
   "cell_type": "code",
   "execution_count": 661,
   "id": "86687d34",
   "metadata": {},
   "outputs": [
    {
     "data": {
      "text/plain": [
       "(Heartdataset (len 87554), Heartdataset (len 21892))"
      ]
     },
     "execution_count": 661,
     "metadata": {},
     "output_type": "execute_result"
    }
   ],
   "source": [
    "traindataset = datasets.HeartDataset1D(trainfile, target=\"target\")\n",
    "testdataset = datasets.HeartDataset1D(testfile, target=\"target\")\n",
    "traindataset, testdataset"
   ]
  },
  {
   "cell_type": "code",
   "execution_count": 662,
   "id": "100fd7ba",
   "metadata": {},
   "outputs": [],
   "source": [
    "from torch.utils.data import random_split\n",
    "\n",
    "# Bepaal verhouding, bijvoorbeeld 80% train / 20% val\n",
    "total_len = len(traindataset)\n",
    "val_len = int(0.2 * total_len)\n",
    "train_len = total_len - val_len\n",
    "\n",
    "traindataset, valdataset = random_split(traindataset, [train_len, val_len])"
   ]
  },
  {
   "cell_type": "code",
   "execution_count": 663,
   "id": "2c6f9d39",
   "metadata": {},
   "outputs": [
    {
     "data": {
      "text/plain": [
       "(2188, 684, 547)"
      ]
     },
     "execution_count": 663,
     "metadata": {},
     "output_type": "execute_result"
    }
   ],
   "source": [
    "trainstreamer = BaseDatastreamer(traindataset, preprocessor = BasePreprocessor(), batchsize=32)\n",
    "teststreamer = BaseDatastreamer(testdataset, preprocessor = BasePreprocessor(), batchsize=32)\n",
    "valstreamer = BaseDatastreamer(valdataset, preprocessor = BasePreprocessor(), batchsize=32)\n",
    "len(trainstreamer), len(teststreamer), len (valstreamer)\n"
   ]
  },
  {
   "cell_type": "code",
   "execution_count": 664,
   "id": "ab5bae95",
   "metadata": {},
   "outputs": [
    {
     "data": {
      "text/plain": [
       "torch.Size([32, 192, 1])"
      ]
     },
     "execution_count": 664,
     "metadata": {},
     "output_type": "execute_result"
    }
   ],
   "source": [
    "x, y = next(trainstreamer.stream())\n",
    "x.shape"
   ]
  },
  {
   "cell_type": "code",
   "execution_count": 665,
   "id": "a074bee8",
   "metadata": {},
   "outputs": [
    {
     "name": "stdout",
     "output_type": "stream",
     "text": [
      "Counter({0: 58046, 4: 5100, 2: 4631, 1: 1763, 3: 504})\n"
     ]
    }
   ],
   "source": [
    "from collections import Counter\n",
    "\n",
    "labels = [int(y) for _, y in traindataset]  # of trainstreamer.ds\n",
    "label_counts = Counter(labels)\n",
    "print(label_counts)"
   ]
  },
  {
   "cell_type": "code",
   "execution_count": 666,
   "id": "3c2e0bbf",
   "metadata": {},
   "outputs": [
    {
     "name": "stdout",
     "output_type": "stream",
     "text": [
      "Class weights: tensor([  1.2067,  39.7300,  15.1250, 138.9762,  13.7341])\n"
     ]
    }
   ],
   "source": [
    "total = sum(label_counts.values())\n",
    "num_classes = 5\n",
    "\n",
    "class_weights = [total / label_counts.get(i, 1) for i in range(num_classes)]\n",
    "class_weights_tensor = torch.FloatTensor(class_weights)\n",
    "\n",
    "print(\"Class weights:\", class_weights_tensor)"
   ]
  },
  {
   "cell_type": "code",
   "execution_count": 667,
   "id": "f3d0e243",
   "metadata": {},
   "outputs": [
    {
     "data": {
      "text/plain": [
       "torch.Size([32, 1, 192])"
      ]
     },
     "execution_count": 667,
     "metadata": {},
     "output_type": "execute_result"
    }
   ],
   "source": [
    "x = x.permute(0, 2, 1)  # (32, 1, 187) voor Conv1d\n",
    "\n",
    "x.shape\n"
   ]
  },
  {
   "cell_type": "code",
   "execution_count": 668,
   "id": "6361a03e",
   "metadata": {},
   "outputs": [],
   "source": [
    "class TinyECGCNN(nn.Module):\n",
    "    def __init__(self, num_classes=5, filters=16, hidden_units=64, input_size=192, dropout=0.2):\n",
    "        super().__init__()\n",
    "\n",
    "        self.conv = nn.Sequential(\n",
    "            nn.Conv1d(1, filters, kernel_size=5, padding=2),\n",
    "            nn.BatchNorm1d(filters),\n",
    "            nn.ReLU(),\n",
    "            nn.MaxPool1d(2),\n",
    "            nn.Dropout(dropout),\n",
    "\n",
    "            nn.Conv1d(filters, filters * 2, kernel_size=5, padding=2),\n",
    "            nn.BatchNorm1d(filters * 2),\n",
    "            nn.ReLU(),\n",
    "            nn.MaxPool1d(2),\n",
    "            nn.Dropout(dropout),\n",
    "        )\n",
    "\n",
    "        self.flatten_dim = filters * (input_size // 2)  # 192 → 96 na pooling\n",
    "\n",
    "        self.fc = nn.Sequential(\n",
    "            nn.Linear(self.flatten_dim, hidden_units),\n",
    "            nn.ReLU(),\n",
    "            nn.Linear(hidden_units, num_classes)\n",
    "        )\n",
    "\n",
    "    def forward(self, x):\n",
    "        x = self.conv(x)\n",
    "        x = F.relu(x)\n",
    "        x = x.reshape(x.size(0), -1)\n",
    "        return self.fc(x)\n"
   ]
  },
  {
   "cell_type": "code",
   "execution_count": 669,
   "id": "61319b97",
   "metadata": {},
   "outputs": [],
   "source": [
    "class ECGWrapper(nn.Module):\n",
    "    def __init__(self, base_model):\n",
    "        super().__init__()\n",
    "        self.base_model = base_model\n",
    "\n",
    "    def forward(self, x):\n",
    "        # x van vorm (batch, 187, 1) → (batch, 1, 187)\n",
    "        x = x.permute(0, 2, 1)\n",
    "        return self.base_model(x)"
   ]
  },
  {
   "cell_type": "code",
   "execution_count": 670,
   "id": "71810017",
   "metadata": {},
   "outputs": [
    {
     "data": {
      "text/plain": [
       "torch.Size([32, 5])"
      ]
     },
     "execution_count": 670,
     "metadata": {},
     "output_type": "execute_result"
    }
   ],
   "source": [
    "model = TinyECGCNN()\n",
    "yhat = model(x)\n",
    "yhat.shape"
   ]
  },
  {
   "cell_type": "code",
   "execution_count": 671,
   "id": "38774b94",
   "metadata": {},
   "outputs": [],
   "source": [
    "f1micro = metrics.F1Score(average='micro')\n",
    "f1macro = metrics.F1Score(average='macro')\n",
    "precision = metrics.Precision('micro')\n",
    "recall = metrics.Recall('macro')\n",
    "accuracy = metrics.Accuracy()\n",
    "metrics_list = [f1micro, f1macro, precision, recall, accuracy]"
   ]
  },
  {
   "cell_type": "code",
   "execution_count": 672,
   "id": "c0759118",
   "metadata": {},
   "outputs": [
    {
     "name": "stdout",
     "output_type": "stream",
     "text": [
      "F1Score_micro: 0.34375\n",
      "F1Score_macro: 0.125\n",
      "Precision_micro: 0.34375\n",
      "Recall_macro: 0.20679012345679013\n",
      "Accuracy: 0.34375\n"
     ]
    }
   ],
   "source": [
    "for metric in metrics_list:\n",
    "    print(f\"{metric}:\", metric(y, yhat))"
   ]
  },
  {
   "cell_type": "code",
   "execution_count": 673,
   "id": "1c2da172",
   "metadata": {},
   "outputs": [
    {
     "name": "stderr",
     "output_type": "stream",
     "text": [
      "\u001b[32m2025-06-11 21:21:43.928\u001b[0m | \u001b[1mINFO    \u001b[0m | \u001b[36mmltrainer.trainer\u001b[0m:\u001b[36mdir_add_timestamp\u001b[0m:\u001b[36m24\u001b[0m - \u001b[1mLogging to logs/heart1D/20250611-212143\u001b[0m\n",
      "100%|\u001b[38;2;30;71;6m██████████\u001b[0m| 437/437 [00:03<00:00, 114.24it/s]\n",
      "\u001b[32m2025-06-11 21:21:51.505\u001b[0m | \u001b[1mINFO    \u001b[0m | \u001b[36mmltrainer.trainer\u001b[0m:\u001b[36mreport\u001b[0m:\u001b[36m209\u001b[0m - \u001b[1mEpoch 0 train 0.7543 test 0.5306 metric ['0.7218', '0.7218', '0.5167', '0.7218', '0.7984']\u001b[0m\n",
      "100%|\u001b[38;2;30;71;6m██████████\u001b[0m| 437/437 [00:03<00:00, 118.40it/s]\n",
      "\u001b[32m2025-06-11 21:21:58.876\u001b[0m | \u001b[1mINFO    \u001b[0m | \u001b[36mmltrainer.trainer\u001b[0m:\u001b[36mreport\u001b[0m:\u001b[36m209\u001b[0m - \u001b[1mEpoch 1 train 0.5353 test 0.4380 metric ['0.8021', '0.8021', '0.5975', '0.8021', '0.8477']\u001b[0m\n",
      "100%|\u001b[38;2;30;71;6m██████████\u001b[0m| 437/437 [00:03<00:00, 117.58it/s]\n",
      "\u001b[32m2025-06-11 21:22:06.298\u001b[0m | \u001b[1mINFO    \u001b[0m | \u001b[36mmltrainer.trainer\u001b[0m:\u001b[36mreport\u001b[0m:\u001b[36m209\u001b[0m - \u001b[1mEpoch 2 train 0.4033 test 0.4227 metric ['0.8583', '0.8583', '0.6198', '0.8583', '0.8572']\u001b[0m\n",
      "100%|\u001b[38;2;30;71;6m██████████\u001b[0m| 437/437 [00:03<00:00, 115.23it/s]\n",
      "\u001b[32m2025-06-11 21:22:14.010\u001b[0m | \u001b[1mINFO    \u001b[0m | \u001b[36mmltrainer.trainer\u001b[0m:\u001b[36mreport\u001b[0m:\u001b[36m209\u001b[0m - \u001b[1mEpoch 3 train 0.4062 test 0.4009 metric ['0.8454', '0.8454', '0.6020', '0.8454', '0.8688']\u001b[0m\n",
      "100%|\u001b[38;2;30;71;6m██████████\u001b[0m| 437/437 [00:04<00:00, 107.75it/s]\n",
      "\u001b[32m2025-06-11 21:22:22.176\u001b[0m | \u001b[1mINFO    \u001b[0m | \u001b[36mmltrainer.trainer\u001b[0m:\u001b[36mreport\u001b[0m:\u001b[36m209\u001b[0m - \u001b[1mEpoch 4 train 0.4358 test 0.3426 metric ['0.8218', '0.8218', '0.5846', '0.8218', '0.8721']\u001b[0m\n",
      "100%|\u001b[38;2;30;71;6m██████████\u001b[0m| 437/437 [00:03<00:00, 109.87it/s]\n",
      "\u001b[32m2025-06-11 21:22:30.017\u001b[0m | \u001b[1mINFO    \u001b[0m | \u001b[36mmltrainer.trainer\u001b[0m:\u001b[36mreport\u001b[0m:\u001b[36m209\u001b[0m - \u001b[1mEpoch 5 train 0.3528 test 0.3698 metric ['0.8832', '0.8832', '0.6555', '0.8832', '0.8821']\u001b[0m\n",
      "100%|\u001b[38;2;30;71;6m██████████\u001b[0m| 437/437 [00:04<00:00, 107.91it/s]\n",
      "\u001b[32m2025-06-11 21:22:37.957\u001b[0m | \u001b[1mINFO    \u001b[0m | \u001b[36mmltrainer.trainer\u001b[0m:\u001b[36mreport\u001b[0m:\u001b[36m209\u001b[0m - \u001b[1mEpoch 6 train 0.3385 test 0.3576 metric ['0.9200', '0.9200', '0.7257', '0.9200', '0.8898']\u001b[0m\n",
      "100%|\u001b[38;2;30;71;6m██████████\u001b[0m| 437/437 [00:03<00:00, 113.05it/s]\n",
      "\u001b[32m2025-06-11 21:22:45.774\u001b[0m | \u001b[1mINFO    \u001b[0m | \u001b[36mmltrainer.trainer\u001b[0m:\u001b[36mreport\u001b[0m:\u001b[36m209\u001b[0m - \u001b[1mEpoch 7 train 0.3579 test 0.3231 metric ['0.8987', '0.8987', '0.6891', '0.8987', '0.9022']\u001b[0m\n",
      "100%|\u001b[38;2;30;71;6m██████████\u001b[0m| 437/437 [00:03<00:00, 113.50it/s]\n",
      "\u001b[32m2025-06-11 21:22:53.641\u001b[0m | \u001b[1mINFO    \u001b[0m | \u001b[36mmltrainer.trainer\u001b[0m:\u001b[36mreport\u001b[0m:\u001b[36m209\u001b[0m - \u001b[1mEpoch 8 train 0.3207 test 0.3088 metric ['0.8372', '0.8372', '0.6196', '0.8372', '0.8989']\u001b[0m\n",
      "100%|\u001b[38;2;30;71;6m██████████\u001b[0m| 437/437 [00:04<00:00, 107.77it/s]\n",
      "\u001b[32m2025-06-11 21:23:01.655\u001b[0m | \u001b[1mINFO    \u001b[0m | \u001b[36mmltrainer.trainer\u001b[0m:\u001b[36mreport\u001b[0m:\u001b[36m209\u001b[0m - \u001b[1mEpoch 9 train 0.3072 test 0.2976 metric ['0.9011', '0.9011', '0.6824', '0.9011', '0.9095']\u001b[0m\n",
      "100%|\u001b[38;2;30;71;6m██████████\u001b[0m| 10/10 [01:17<00:00,  7.77s/it]\n"
     ]
    }
   ],
   "source": [
    "from mltrainer import ReportTypes, Trainer, TrainerSettings\n",
    "import torch.optim as optim\n",
    "\n",
    "# model = TinyECGCNN()\n",
    "model = ECGWrapper(TinyECGCNN())\n",
    "optimizer = torch.optim.Adam\n",
    "loss_fn = nn.CrossEntropyLoss(weight=class_weights_tensor)\n",
    "\n",
    "steps = len(trainstreamer) // 5\n",
    "\n",
    "settings = TrainerSettings(\n",
    "    epochs=10,\n",
    "    metrics=[accuracy, f1micro, f1macro, precision, recall],\n",
    "    logdir=\"logs/heart1D\",\n",
    "    train_steps=steps,\n",
    "    valid_steps=steps,\n",
    "    reporttypes=[ReportTypes.TENSORBOARD],\n",
    "    earlystop_kwargs=None\n",
    "    )\n",
    "\n",
    "trainer = Trainer(\n",
    "    model=model,\n",
    "    settings=settings,\n",
    "    loss_fn=loss_fn,\n",
    "    optimizer=optimizer,\n",
    "    traindataloader=trainstreamer.stream(),\n",
    "    validdataloader=teststreamer.stream(),\n",
    "    scheduler=optim.lr_scheduler.ReduceLROnPlateau,\n",
    "    )\n",
    "\n",
    "trainer.loop()"
   ]
  },
  {
   "cell_type": "code",
   "execution_count": 674,
   "id": "c1c97184",
   "metadata": {},
   "outputs": [
    {
     "data": {
      "text/plain": [
       "[Text(0.5, 23.52222222222222, 'Predicted'),\n",
       " Text(50.722222222222214, 0.5, 'Target')]"
      ]
     },
     "execution_count": 674,
     "metadata": {},
     "output_type": "execute_result"
    },
    {
     "data": {
      "image/png": "[encoded data removed]",
      "text/plain": [
       "<Figure size 640x480 with 2 Axes>"
      ]
     },
     "metadata": {},
     "output_type": "display_data"
    }
   ],
   "source": [
    "import seaborn as sns\n",
    "import numpy as np\n",
    "\n",
    "y_true = []\n",
    "y_pred = []\n",
    "\n",
    "testdata = teststreamer.stream()\n",
    "\n",
    "for _ in range(len(teststreamer)):\n",
    "    X, y = next(testdata)\n",
    "    yhat = model(X)\n",
    "    yhat = yhat.argmax(dim=1) # we get the one with the highest probability\n",
    "    y_pred.append(yhat.cpu().tolist())\n",
    "    y_true.append(y.cpu().tolist())\n",
    "\n",
    "yhat = [x for y in y_pred for x in y]\n",
    "y = [x for y in y_true for x in y]\n",
    "\n",
    "cfm = confusion_matrix(y, yhat)\n",
    "cfm = cfm / np.sum(cfm, axis=1, keepdims=True)\n",
    "\n",
    "plot = sns.heatmap(cfm, annot=cfm, fmt=\".3f\")\n",
    "plot.set(xlabel=\"Predicted\", ylabel=\"Target\")"
   ]
  }
 ],
 "metadata": {
  "kernelspec": {
   "display_name": ".venv",
   "language": "python",
   "name": "python3"
  },
  "language_info": {
   "codemirror_mode": {
    "name": "ipython",
    "version": 3
   },
   "file_extension": ".py",
   "mimetype": "text/x-python",
   "name": "python",
   "nbconvert_exporter": "python",
   "pygments_lexer": "ipython3",
   "version": "3.13.3"
  }
 },
 "nbformat": 4,
 "nbformat_minor": 5
}
